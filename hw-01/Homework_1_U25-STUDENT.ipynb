{
 "cells": [
  {
   "cell_type": "markdown",
   "metadata": {
    "pycharm": {
     "name": "#%% md\n"
    }
   },
   "source": [
    "\n",
    "\n",
    "<div align=\"left\"><img src=\"https://msu-cmse-courses.github.io/cmse202-U25-jb/_static/logo.png\" alt=\"cmse logo\" width=400></div>\n",
    "\n",
    "# CMSE 202 - Summer Session 2 - 2025\n",
    "## Homework Assignment 1\n",
    " \n",
    "\n",
    "### <p style=\"text-align: right;\"> &#9989; Pranaov</p>\n"
   ]
  },
  {
   "cell_type": "markdown",
   "metadata": {},
   "source": [
    "## Part 1: Setting up a git repository to track your progress on your assignment (16 points)\n",
    "\n",
    "For this assignment, you're going to create new **private** GitHub repository that you can used to track your progress on this homework assignment and some future assignments. Again, this should be a **private** repository so that your solutions are not publicly accessible.\n",
    "\n",
    "**&#9989; Do the following (12 points)**:\n",
    "**Show the commands, links,...etc. for each of the following parts in the cell below this**\n",
    "1. On [GitHub](https://github.com) make sure you are logged into your account and then create a new <font color=\"red\">**_private_**</font> GitHub repository called `cmse202-u25-turnin`. **Provide your repository's link below this cell**. \n",
    "2. Once you've initialized the repository on GitHub, **clone a copy of it onto JupyterHub or your local computer, copy-paste the command line's output**.\n",
    "3. Inside the `cmse202-u25-turnin` repository, create a new folder called `hw-01`. **What command did you use?**\n",
    "4. Move this notebook into that **new directory** in your repository then **add it and commit it to your repository**. **Important**: you'll want to make sure you **save and close** the notebook before you do this step and then re-open it once you've added it to your repository. **what git commands did you use to add and to commit? show the commands and commit message**.\n",
    "5. Finally, to test that everything is working, push the notebook file so that it shows up in your <font color=\"red\">**_private_**</font> GitHub repository on the web.**What command did you use?**\n",
    "\n",
    "6. **Important**: Make sure you've added your Professor and your TA as collaborators to your new \"turnin\" respository with \"Read\" access so that they can see your assignment. \n",
    "\n",
    "**Double-check the following**: Make sure that the version of this notebook that you are working on is the same one that you just added to your repository! If you are working on a different copy of the noteobok, **none of your changes will be tracked**.\n",
    "\n",
    "If everything went as intended, the file should now show up on your GitHub account in the \"`cmse202-u25-turnin`\" repository inside the `hw-01` directory that you just created.  Periodically, **you'll be asked to commit your changes to the repository and push them to the remote GitHub location**. Of course, you can always commit your changes more often than that, if you wish.  It can be good to get into a habit of committing your changes any time you make a significant modification, or when you stop working on the project for a bit.\n",
    "\n"
   ]
  },
  {
   "cell_type": "markdown",
   "metadata": {},
   "source": [
    " 1. https://github.com/PG2362/CMSE202-f25-turnin-PG.git\n",
    "2. unfortunately i created this repo in day 1 ICA when it was assigned. so I do not have the command line output.\n",
    "3. mkdir hw-01\n",
    "4. git add, git commit -m\n",
    "5.  git push"
   ]
  },
  {
   "cell_type": "markdown",
   "metadata": {},
   "source": [
    "&#9989; **Do this (2 points)**: Before you move on, put the command that your instructor should run to clone your repository in the markdown cell below."
   ]
  },
  {
   "cell_type": "markdown",
   "metadata": {},
   "source": [
    "<font size=+3>&#9998;</font> git clone https://github.com/PG2362/CMSE202-f25-turnin-PG.git"
   ]
  },
  {
   "cell_type": "markdown",
   "metadata": {},
   "source": [
    "## &#128721; STOP \n",
    "Commit and push this part to github. Use a meaningful message for your commit **(2 points)**"
   ]
  },
  {
   "cell_type": "markdown",
   "metadata": {},
   "source": [
    "## Part 2: Downloading and exploring datasets using pandas (19 points)\n",
    "\n",
    "In this part of the assignment, you will download an unfamiliar dataset and try to explore it and analyze it using pandas.\n",
    "\n",
    "**&#9989; Do the following (2 points)**:\n",
    "\n",
    "Download the following CSV file containing cumulative confirmed COVID-19 cases worldwide:\n",
    "\n",
    "📎 https://covid.ourworldindata.org/data/latest/owid-covid-latest.csv\n",
    "\n",
    "Use `curl` to download the data and provide your code in the code cell below\n"
   ]
  },
  {
   "cell_type": "code",
   "execution_count": 8,
   "metadata": {},
   "outputs": [
    {
     "name": "stdout",
     "output_type": "stream",
     "text": [
      "  % Total    % Received % Xferd  Average Speed   Time    Time     Time  Current\n",
      "                                 Dload  Upload   Total   Spent    Left  Speed\n",
      "100   143  100   143    0     0   1625      0 --:--:-- --:--:-- --:--:--  1643\n",
      "100 55437  100 55437    0     0   185k      0 --:--:-- --:--:-- --:--:--  185k\n"
     ]
    }
   ],
   "source": [
    "# Download the dataset\n",
    "!curl -L -O https://covid.ourworldindata.org/data/latest/owid-covid-latest.csv\n"
   ]
  },
  {
   "cell_type": "markdown",
   "metadata": {},
   "source": [
    "**&#9989; Display the first 10 rows (2 points)**:"
   ]
  },
  {
   "cell_type": "code",
   "execution_count": 9,
   "metadata": {},
   "outputs": [
    {
     "data": {
      "text/html": [
       "<div>\n",
       "<style scoped>\n",
       "    .dataframe tbody tr th:only-of-type {\n",
       "        vertical-align: middle;\n",
       "    }\n",
       "\n",
       "    .dataframe tbody tr th {\n",
       "        vertical-align: top;\n",
       "    }\n",
       "\n",
       "    .dataframe thead th {\n",
       "        text-align: right;\n",
       "    }\n",
       "</style>\n",
       "<table border=\"1\" class=\"dataframe\">\n",
       "  <thead>\n",
       "    <tr style=\"text-align: right;\">\n",
       "      <th></th>\n",
       "      <th>iso_code</th>\n",
       "      <th>continent</th>\n",
       "      <th>location</th>\n",
       "      <th>last_updated_date</th>\n",
       "      <th>total_cases</th>\n",
       "      <th>new_cases</th>\n",
       "      <th>new_cases_smoothed</th>\n",
       "      <th>total_deaths</th>\n",
       "      <th>new_deaths</th>\n",
       "      <th>new_deaths_smoothed</th>\n",
       "      <th>...</th>\n",
       "      <th>male_smokers</th>\n",
       "      <th>handwashing_facilities</th>\n",
       "      <th>hospital_beds_per_thousand</th>\n",
       "      <th>life_expectancy</th>\n",
       "      <th>human_development_index</th>\n",
       "      <th>population</th>\n",
       "      <th>excess_mortality_cumulative_absolute</th>\n",
       "      <th>excess_mortality_cumulative</th>\n",
       "      <th>excess_mortality</th>\n",
       "      <th>excess_mortality_cumulative_per_million</th>\n",
       "    </tr>\n",
       "  </thead>\n",
       "  <tbody>\n",
       "    <tr>\n",
       "      <th>0</th>\n",
       "      <td>AFG</td>\n",
       "      <td>Asia</td>\n",
       "      <td>Afghanistan</td>\n",
       "      <td>2024-08-04</td>\n",
       "      <td>235214.0</td>\n",
       "      <td>0.0</td>\n",
       "      <td>0.000</td>\n",
       "      <td>7998.0</td>\n",
       "      <td>0.0</td>\n",
       "      <td>0.000</td>\n",
       "      <td>...</td>\n",
       "      <td>NaN</td>\n",
       "      <td>37.746</td>\n",
       "      <td>0.50</td>\n",
       "      <td>64.83</td>\n",
       "      <td>0.511</td>\n",
       "      <td>4.112877e+07</td>\n",
       "      <td>NaN</td>\n",
       "      <td>NaN</td>\n",
       "      <td>NaN</td>\n",
       "      <td>NaN</td>\n",
       "    </tr>\n",
       "    <tr>\n",
       "      <th>1</th>\n",
       "      <td>OWID_AFR</td>\n",
       "      <td>NaN</td>\n",
       "      <td>Africa</td>\n",
       "      <td>2024-08-04</td>\n",
       "      <td>13145380.0</td>\n",
       "      <td>36.0</td>\n",
       "      <td>5.143</td>\n",
       "      <td>259117.0</td>\n",
       "      <td>0.0</td>\n",
       "      <td>0.000</td>\n",
       "      <td>...</td>\n",
       "      <td>NaN</td>\n",
       "      <td>NaN</td>\n",
       "      <td>NaN</td>\n",
       "      <td>NaN</td>\n",
       "      <td>NaN</td>\n",
       "      <td>1.426737e+09</td>\n",
       "      <td>NaN</td>\n",
       "      <td>NaN</td>\n",
       "      <td>NaN</td>\n",
       "      <td>NaN</td>\n",
       "    </tr>\n",
       "    <tr>\n",
       "      <th>2</th>\n",
       "      <td>ALB</td>\n",
       "      <td>Europe</td>\n",
       "      <td>Albania</td>\n",
       "      <td>2024-08-04</td>\n",
       "      <td>335047.0</td>\n",
       "      <td>0.0</td>\n",
       "      <td>0.000</td>\n",
       "      <td>3605.0</td>\n",
       "      <td>0.0</td>\n",
       "      <td>0.000</td>\n",
       "      <td>...</td>\n",
       "      <td>51.2</td>\n",
       "      <td>NaN</td>\n",
       "      <td>2.89</td>\n",
       "      <td>78.57</td>\n",
       "      <td>0.795</td>\n",
       "      <td>2.842318e+06</td>\n",
       "      <td>NaN</td>\n",
       "      <td>NaN</td>\n",
       "      <td>NaN</td>\n",
       "      <td>NaN</td>\n",
       "    </tr>\n",
       "    <tr>\n",
       "      <th>3</th>\n",
       "      <td>DZA</td>\n",
       "      <td>Africa</td>\n",
       "      <td>Algeria</td>\n",
       "      <td>2024-08-04</td>\n",
       "      <td>272139.0</td>\n",
       "      <td>18.0</td>\n",
       "      <td>2.571</td>\n",
       "      <td>6881.0</td>\n",
       "      <td>0.0</td>\n",
       "      <td>0.000</td>\n",
       "      <td>...</td>\n",
       "      <td>30.4</td>\n",
       "      <td>83.741</td>\n",
       "      <td>1.90</td>\n",
       "      <td>76.88</td>\n",
       "      <td>0.748</td>\n",
       "      <td>4.490323e+07</td>\n",
       "      <td>NaN</td>\n",
       "      <td>NaN</td>\n",
       "      <td>NaN</td>\n",
       "      <td>NaN</td>\n",
       "    </tr>\n",
       "    <tr>\n",
       "      <th>4</th>\n",
       "      <td>ASM</td>\n",
       "      <td>Oceania</td>\n",
       "      <td>American Samoa</td>\n",
       "      <td>2024-08-04</td>\n",
       "      <td>8359.0</td>\n",
       "      <td>0.0</td>\n",
       "      <td>0.000</td>\n",
       "      <td>34.0</td>\n",
       "      <td>0.0</td>\n",
       "      <td>0.000</td>\n",
       "      <td>...</td>\n",
       "      <td>NaN</td>\n",
       "      <td>NaN</td>\n",
       "      <td>NaN</td>\n",
       "      <td>73.74</td>\n",
       "      <td>NaN</td>\n",
       "      <td>4.429500e+04</td>\n",
       "      <td>NaN</td>\n",
       "      <td>NaN</td>\n",
       "      <td>NaN</td>\n",
       "      <td>NaN</td>\n",
       "    </tr>\n",
       "    <tr>\n",
       "      <th>5</th>\n",
       "      <td>AND</td>\n",
       "      <td>Europe</td>\n",
       "      <td>Andorra</td>\n",
       "      <td>2024-08-04</td>\n",
       "      <td>48015.0</td>\n",
       "      <td>0.0</td>\n",
       "      <td>0.000</td>\n",
       "      <td>159.0</td>\n",
       "      <td>0.0</td>\n",
       "      <td>0.000</td>\n",
       "      <td>...</td>\n",
       "      <td>37.8</td>\n",
       "      <td>NaN</td>\n",
       "      <td>NaN</td>\n",
       "      <td>83.73</td>\n",
       "      <td>0.868</td>\n",
       "      <td>7.984300e+04</td>\n",
       "      <td>NaN</td>\n",
       "      <td>NaN</td>\n",
       "      <td>NaN</td>\n",
       "      <td>NaN</td>\n",
       "    </tr>\n",
       "    <tr>\n",
       "      <th>6</th>\n",
       "      <td>AGO</td>\n",
       "      <td>Africa</td>\n",
       "      <td>Angola</td>\n",
       "      <td>2024-08-04</td>\n",
       "      <td>107481.0</td>\n",
       "      <td>0.0</td>\n",
       "      <td>0.000</td>\n",
       "      <td>1937.0</td>\n",
       "      <td>0.0</td>\n",
       "      <td>0.000</td>\n",
       "      <td>...</td>\n",
       "      <td>NaN</td>\n",
       "      <td>26.664</td>\n",
       "      <td>NaN</td>\n",
       "      <td>61.15</td>\n",
       "      <td>0.581</td>\n",
       "      <td>3.558900e+07</td>\n",
       "      <td>NaN</td>\n",
       "      <td>NaN</td>\n",
       "      <td>NaN</td>\n",
       "      <td>NaN</td>\n",
       "    </tr>\n",
       "    <tr>\n",
       "      <th>7</th>\n",
       "      <td>AIA</td>\n",
       "      <td>North America</td>\n",
       "      <td>Anguilla</td>\n",
       "      <td>2024-08-04</td>\n",
       "      <td>3904.0</td>\n",
       "      <td>0.0</td>\n",
       "      <td>0.000</td>\n",
       "      <td>12.0</td>\n",
       "      <td>0.0</td>\n",
       "      <td>0.000</td>\n",
       "      <td>...</td>\n",
       "      <td>NaN</td>\n",
       "      <td>NaN</td>\n",
       "      <td>NaN</td>\n",
       "      <td>81.88</td>\n",
       "      <td>NaN</td>\n",
       "      <td>1.587700e+04</td>\n",
       "      <td>NaN</td>\n",
       "      <td>NaN</td>\n",
       "      <td>NaN</td>\n",
       "      <td>NaN</td>\n",
       "    </tr>\n",
       "    <tr>\n",
       "      <th>8</th>\n",
       "      <td>ATG</td>\n",
       "      <td>North America</td>\n",
       "      <td>Antigua and Barbuda</td>\n",
       "      <td>2024-08-04</td>\n",
       "      <td>9106.0</td>\n",
       "      <td>0.0</td>\n",
       "      <td>0.000</td>\n",
       "      <td>146.0</td>\n",
       "      <td>0.0</td>\n",
       "      <td>0.000</td>\n",
       "      <td>...</td>\n",
       "      <td>NaN</td>\n",
       "      <td>NaN</td>\n",
       "      <td>3.80</td>\n",
       "      <td>77.02</td>\n",
       "      <td>0.778</td>\n",
       "      <td>9.377200e+04</td>\n",
       "      <td>NaN</td>\n",
       "      <td>NaN</td>\n",
       "      <td>NaN</td>\n",
       "      <td>NaN</td>\n",
       "    </tr>\n",
       "    <tr>\n",
       "      <th>9</th>\n",
       "      <td>ARG</td>\n",
       "      <td>South America</td>\n",
       "      <td>Argentina</td>\n",
       "      <td>2024-08-04</td>\n",
       "      <td>10101218.0</td>\n",
       "      <td>54.0</td>\n",
       "      <td>7.714</td>\n",
       "      <td>130663.0</td>\n",
       "      <td>1.0</td>\n",
       "      <td>0.143</td>\n",
       "      <td>...</td>\n",
       "      <td>27.7</td>\n",
       "      <td>NaN</td>\n",
       "      <td>5.00</td>\n",
       "      <td>76.67</td>\n",
       "      <td>0.845</td>\n",
       "      <td>4.551032e+07</td>\n",
       "      <td>NaN</td>\n",
       "      <td>NaN</td>\n",
       "      <td>NaN</td>\n",
       "      <td>NaN</td>\n",
       "    </tr>\n",
       "  </tbody>\n",
       "</table>\n",
       "<p>10 rows × 67 columns</p>\n",
       "</div>"
      ],
      "text/plain": [
       "   iso_code      continent             location last_updated_date  \\\n",
       "0       AFG           Asia          Afghanistan        2024-08-04   \n",
       "1  OWID_AFR            NaN               Africa        2024-08-04   \n",
       "2       ALB         Europe              Albania        2024-08-04   \n",
       "3       DZA         Africa              Algeria        2024-08-04   \n",
       "4       ASM        Oceania       American Samoa        2024-08-04   \n",
       "5       AND         Europe              Andorra        2024-08-04   \n",
       "6       AGO         Africa               Angola        2024-08-04   \n",
       "7       AIA  North America             Anguilla        2024-08-04   \n",
       "8       ATG  North America  Antigua and Barbuda        2024-08-04   \n",
       "9       ARG  South America            Argentina        2024-08-04   \n",
       "\n",
       "   total_cases  new_cases  new_cases_smoothed  total_deaths  new_deaths  \\\n",
       "0     235214.0        0.0               0.000        7998.0         0.0   \n",
       "1   13145380.0       36.0               5.143      259117.0         0.0   \n",
       "2     335047.0        0.0               0.000        3605.0         0.0   \n",
       "3     272139.0       18.0               2.571        6881.0         0.0   \n",
       "4       8359.0        0.0               0.000          34.0         0.0   \n",
       "5      48015.0        0.0               0.000         159.0         0.0   \n",
       "6     107481.0        0.0               0.000        1937.0         0.0   \n",
       "7       3904.0        0.0               0.000          12.0         0.0   \n",
       "8       9106.0        0.0               0.000         146.0         0.0   \n",
       "9   10101218.0       54.0               7.714      130663.0         1.0   \n",
       "\n",
       "   new_deaths_smoothed  ...  male_smokers  handwashing_facilities  \\\n",
       "0                0.000  ...           NaN                  37.746   \n",
       "1                0.000  ...           NaN                     NaN   \n",
       "2                0.000  ...          51.2                     NaN   \n",
       "3                0.000  ...          30.4                  83.741   \n",
       "4                0.000  ...           NaN                     NaN   \n",
       "5                0.000  ...          37.8                     NaN   \n",
       "6                0.000  ...           NaN                  26.664   \n",
       "7                0.000  ...           NaN                     NaN   \n",
       "8                0.000  ...           NaN                     NaN   \n",
       "9                0.143  ...          27.7                     NaN   \n",
       "\n",
       "   hospital_beds_per_thousand  life_expectancy  human_development_index  \\\n",
       "0                        0.50            64.83                    0.511   \n",
       "1                         NaN              NaN                      NaN   \n",
       "2                        2.89            78.57                    0.795   \n",
       "3                        1.90            76.88                    0.748   \n",
       "4                         NaN            73.74                      NaN   \n",
       "5                         NaN            83.73                    0.868   \n",
       "6                         NaN            61.15                    0.581   \n",
       "7                         NaN            81.88                      NaN   \n",
       "8                        3.80            77.02                    0.778   \n",
       "9                        5.00            76.67                    0.845   \n",
       "\n",
       "     population  excess_mortality_cumulative_absolute  \\\n",
       "0  4.112877e+07                                   NaN   \n",
       "1  1.426737e+09                                   NaN   \n",
       "2  2.842318e+06                                   NaN   \n",
       "3  4.490323e+07                                   NaN   \n",
       "4  4.429500e+04                                   NaN   \n",
       "5  7.984300e+04                                   NaN   \n",
       "6  3.558900e+07                                   NaN   \n",
       "7  1.587700e+04                                   NaN   \n",
       "8  9.377200e+04                                   NaN   \n",
       "9  4.551032e+07                                   NaN   \n",
       "\n",
       "   excess_mortality_cumulative  excess_mortality  \\\n",
       "0                          NaN               NaN   \n",
       "1                          NaN               NaN   \n",
       "2                          NaN               NaN   \n",
       "3                          NaN               NaN   \n",
       "4                          NaN               NaN   \n",
       "5                          NaN               NaN   \n",
       "6                          NaN               NaN   \n",
       "7                          NaN               NaN   \n",
       "8                          NaN               NaN   \n",
       "9                          NaN               NaN   \n",
       "\n",
       "   excess_mortality_cumulative_per_million  \n",
       "0                                      NaN  \n",
       "1                                      NaN  \n",
       "2                                      NaN  \n",
       "3                                      NaN  \n",
       "4                                      NaN  \n",
       "5                                      NaN  \n",
       "6                                      NaN  \n",
       "7                                      NaN  \n",
       "8                                      NaN  \n",
       "9                                      NaN  \n",
       "\n",
       "[10 rows x 67 columns]"
      ]
     },
     "execution_count": 9,
     "metadata": {},
     "output_type": "execute_result"
    }
   ],
   "source": [
    "# Put your code in this cell\n",
    "import pandas as pd\n",
    "data = pd.read_csv('owid-covid-latest.csv')\n",
    "data.head(10)"
   ]
  },
  {
   "cell_type": "markdown",
   "metadata": {},
   "source": [
    "**&#9989; Do the following (2 points)**:\n",
    "Create a pandas dataframe containing the downloaded data and perform some exploratory analysis of your choice to help you understand the dataset"
   ]
  },
  {
   "cell_type": "code",
   "execution_count": 13,
   "metadata": {},
   "outputs": [
    {
     "name": "stdout",
     "output_type": "stream",
     "text": [
      "        total_cases     new_cases  new_cases_smoothed  total_deaths  \\\n",
      "count  2.460000e+02    242.000000          242.000000  2.460000e+02   \n",
      "mean   1.336634e+07    885.607438          126.515355  1.198689e+05   \n",
      "std    6.568130e+07   4854.786157          693.540908  5.747240e+05   \n",
      "min    0.000000e+00      0.000000            0.000000  0.000000e+00   \n",
      "25%    2.750950e+04      0.000000            0.000000  1.837500e+02   \n",
      "50%    2.320985e+05      0.000000            0.000000  2.205500e+03   \n",
      "75%    1.703974e+06      5.500000            0.785500  1.938850e+04   \n",
      "max    7.758668e+08  47169.000000         6738.429000  7.057132e+06   \n",
      "\n",
      "       new_deaths  new_deaths_smoothed  total_cases_per_million  \\\n",
      "count  243.000000            243.00000               246.000000   \n",
      "mean    14.032922              2.00472            203988.255797   \n",
      "std     92.179347             13.16853            200456.902140   \n",
      "min      0.000000              0.00000                 0.000000   \n",
      "25%      0.000000              0.00000             21257.766500   \n",
      "50%      0.000000              0.00000            135384.895000   \n",
      "75%      0.000000              0.00000            340625.300000   \n",
      "max    815.000000            116.42900            763598.600000   \n",
      "\n",
      "       new_cases_per_million  new_cases_smoothed_per_million  \\\n",
      "count             242.000000                      242.000000   \n",
      "mean               22.204909                        3.172136   \n",
      "std                82.962646                       11.851812   \n",
      "min                 0.000000                        0.000000   \n",
      "25%                 0.000000                        0.000000   \n",
      "50%                 0.000000                        0.000000   \n",
      "75%                 0.232000                        0.033250   \n",
      "max               672.437000                       96.062000   \n",
      "\n",
      "       total_deaths_per_million  ...  male_smokers  handwashing_facilities  \\\n",
      "count                246.000000  ...    145.000000               96.000000   \n",
      "mean                1271.427736  ...     32.909897               50.788844   \n",
      "std                 1322.697453  ...     13.621757               32.124848   \n",
      "min                    0.000000  ...      7.700000                1.188000   \n",
      "25%                  144.808250  ...     22.600000               20.482000   \n",
      "50%                  877.689000  ...     33.100000               49.690500   \n",
      "75%                 2032.222000  ...     41.300000               82.686750   \n",
      "max                 6601.110000  ...     78.100000              100.000000   \n",
      "\n",
      "       hospital_beds_per_thousand  life_expectancy  human_development_index  \\\n",
      "count                  173.000000       231.000000               190.000000   \n",
      "mean                     3.097012        73.660866                 0.722500   \n",
      "std                      2.555777         7.405725                 0.149398   \n",
      "min                      0.100000        53.280000                 0.394000   \n",
      "25%                      1.300000        69.545000                 0.603000   \n",
      "50%                      2.500000        75.050000                 0.740000   \n",
      "75%                      4.200000        79.285000                 0.828750   \n",
      "max                     13.800000        86.750000                 0.957000   \n",
      "\n",
      "         population  excess_mortality_cumulative_absolute  \\\n",
      "count  2.470000e+02                                   0.0   \n",
      "mean   1.307656e+08                                   NaN   \n",
      "std    6.684333e+08                                   NaN   \n",
      "min    4.700000e+01                                   NaN   \n",
      "25%    4.294955e+05                                   NaN   \n",
      "50%    5.970430e+06                                   NaN   \n",
      "75%    2.895671e+07                                   NaN   \n",
      "max    7.975105e+09                                   NaN   \n",
      "\n",
      "       excess_mortality_cumulative  excess_mortality  \\\n",
      "count                          0.0               0.0   \n",
      "mean                           NaN               NaN   \n",
      "std                            NaN               NaN   \n",
      "min                            NaN               NaN   \n",
      "25%                            NaN               NaN   \n",
      "50%                            NaN               NaN   \n",
      "75%                            NaN               NaN   \n",
      "max                            NaN               NaN   \n",
      "\n",
      "       excess_mortality_cumulative_per_million  \n",
      "count                                      0.0  \n",
      "mean                                       NaN  \n",
      "std                                        NaN  \n",
      "min                                        NaN  \n",
      "25%                                        NaN  \n",
      "50%                                        NaN  \n",
      "75%                                        NaN  \n",
      "max                                        NaN  \n",
      "\n",
      "[8 rows x 63 columns]\n",
      "                          location  total_cases\n",
      "243                          World  775866783.0\n",
      "96           High-income countries  429044049.0\n",
      "12                            Asia  301499099.0\n",
      "70                          Europe  252916868.0\n",
      "235  Upper-middle-income countries  251753518.0\n",
      "71             European Union (27)  185822587.0\n",
      "161                  North America  124492666.0\n",
      "233                  United States  103436829.0\n",
      "44                           China   99373219.0\n",
      "128  Lower-middle-income countries   91954400.0\n",
      "<class 'pandas.core.frame.DataFrame'>\n",
      "RangeIndex: 247 entries, 0 to 246\n",
      "Data columns (total 67 columns):\n",
      " #   Column                                      Non-Null Count  Dtype  \n",
      "---  ------                                      --------------  -----  \n",
      " 0   iso_code                                    247 non-null    object \n",
      " 1   continent                                   235 non-null    object \n",
      " 2   location                                    247 non-null    object \n",
      " 3   last_updated_date                           247 non-null    object \n",
      " 4   total_cases                                 246 non-null    float64\n",
      " 5   new_cases                                   242 non-null    float64\n",
      " 6   new_cases_smoothed                          242 non-null    float64\n",
      " 7   total_deaths                                246 non-null    float64\n",
      " 8   new_deaths                                  243 non-null    float64\n",
      " 9   new_deaths_smoothed                         243 non-null    float64\n",
      " 10  total_cases_per_million                     246 non-null    float64\n",
      " 11  new_cases_per_million                       242 non-null    float64\n",
      " 12  new_cases_smoothed_per_million              242 non-null    float64\n",
      " 13  total_deaths_per_million                    246 non-null    float64\n",
      " 14  new_deaths_per_million                      243 non-null    float64\n",
      " 15  new_deaths_smoothed_per_million             243 non-null    float64\n",
      " 16  reproduction_rate                           0 non-null      float64\n",
      " 17  icu_patients                                3 non-null      float64\n",
      " 18  icu_patients_per_million                    3 non-null      float64\n",
      " 19  hosp_patients                               3 non-null      float64\n",
      " 20  hosp_patients_per_million                   3 non-null      float64\n",
      " 21  weekly_icu_admissions                       2 non-null      float64\n",
      " 22  weekly_icu_admissions_per_million           2 non-null      float64\n",
      " 23  weekly_hosp_admissions                      2 non-null      float64\n",
      " 24  weekly_hosp_admissions_per_million          2 non-null      float64\n",
      " 25  total_tests                                 0 non-null      float64\n",
      " 26  new_tests                                   0 non-null      float64\n",
      " 27  total_tests_per_thousand                    0 non-null      float64\n",
      " 28  new_tests_per_thousand                      0 non-null      float64\n",
      " 29  new_tests_smoothed                          0 non-null      float64\n",
      " 30  new_tests_smoothed_per_thousand             0 non-null      float64\n",
      " 31  positive_rate                               0 non-null      float64\n",
      " 32  tests_per_case                              0 non-null      float64\n",
      " 33  tests_units                                 0 non-null      float64\n",
      " 34  total_vaccinations                          17 non-null     float64\n",
      " 35  people_vaccinated                           15 non-null     float64\n",
      " 36  people_fully_vaccinated                     15 non-null     float64\n",
      " 37  total_boosters                              17 non-null     float64\n",
      " 38  new_vaccinations                            14 non-null     float64\n",
      " 39  new_vaccinations_smoothed                   17 non-null     float64\n",
      " 40  total_vaccinations_per_hundred              17 non-null     float64\n",
      " 41  people_vaccinated_per_hundred               15 non-null     float64\n",
      " 42  people_fully_vaccinated_per_hundred         15 non-null     float64\n",
      " 43  total_boosters_per_hundred                  17 non-null     float64\n",
      " 44  new_vaccinations_smoothed_per_million       17 non-null     float64\n",
      " 45  new_people_vaccinated_smoothed              15 non-null     float64\n",
      " 46  new_people_vaccinated_smoothed_per_hundred  15 non-null     float64\n",
      " 47  stringency_index                            0 non-null      float64\n",
      " 48  population_density                          214 non-null    float64\n",
      " 49  median_age                                  198 non-null    float64\n",
      " 50  aged_65_older                               192 non-null    float64\n",
      " 51  aged_70_older                               196 non-null    float64\n",
      " 52  gdp_per_capita                              195 non-null    float64\n",
      " 53  extreme_poverty                             126 non-null    float64\n",
      " 54  cardiovasc_death_rate                       195 non-null    float64\n",
      " 55  diabetes_prevalence                         206 non-null    float64\n",
      " 56  female_smokers                              147 non-null    float64\n",
      " 57  male_smokers                                145 non-null    float64\n",
      " 58  handwashing_facilities                      96 non-null     float64\n",
      " 59  hospital_beds_per_thousand                  173 non-null    float64\n",
      " 60  life_expectancy                             231 non-null    float64\n",
      " 61  human_development_index                     190 non-null    float64\n",
      " 62  population                                  247 non-null    float64\n",
      " 63  excess_mortality_cumulative_absolute        0 non-null      float64\n",
      " 64  excess_mortality_cumulative                 0 non-null      float64\n",
      " 65  excess_mortality                            0 non-null      float64\n",
      " 66  excess_mortality_cumulative_per_million     0 non-null      float64\n",
      "dtypes: float64(63), object(4)\n",
      "memory usage: 129.4+ KB\n",
      "None\n"
     ]
    }
   ],
   "source": [
    "print(data.describe())\n",
    "print(data[['location', 'total_cases']].sort_values(by='total_cases', ascending=False).head(10))\n",
    "print(data.info())"
   ]
  },
  {
   "cell_type": "markdown",
   "metadata": {},
   "source": [
    "**&#9989; Explain what the data is about and give an idea on how the data is organized. You can talk about what rows and columns contain, what datatypes are used,...etc. Make sure that your explanation helps the reader get an overview of the data. You d not need to talk about all columns and rows, just the ones that are important to analyze the total number of cases(2 points)**:"
   ]
  },
  {
   "cell_type": "markdown",
   "metadata": {},
   "source": [
    " the data is organized by covid cases by country and continent. most of the data columns are float64, while some are objects. the dataset includes a range of different variables that possibly relate to covid deaths and cases. some of those variables are as follows: total_cases,\tnew_cases, new_cases_smoothed,\ttotal_deaths,\tnew_deaths,\tnew_deaths_smoothed,,\tmale_smokers\thandwashing_facilities,\thospital_beds_per_thousand,\tlife_expectancy,\thuman_development_index,\tpopulation "
   ]
  },
  {
   "cell_type": "markdown",
   "metadata": {},
   "source": [
    "**&#9989; Does the dataset have any missing values for the count of total cases? (1 point)**"
   ]
  },
  {
   "cell_type": "code",
   "execution_count": 14,
   "metadata": {},
   "outputs": [
    {
     "data": {
      "text/plain": [
       "1"
      ]
     },
     "execution_count": 14,
     "metadata": {},
     "output_type": "execute_result"
    }
   ],
   "source": [
    "data['total_cases'].isnull().sum()"
   ]
  },
  {
   "cell_type": "markdown",
   "metadata": {},
   "source": [
    "<font size=+3>&#9998;</font> there's one missing value for the count of total cases"
   ]
  },
  {
   "cell_type": "markdown",
   "metadata": {},
   "source": [
    "**&#9989; Which country has the highest percentage of cases and which country has the highest percentage of deaths? (4 point)**"
   ]
  },
  {
   "cell_type": "code",
   "execution_count": 27,
   "metadata": {},
   "outputs": [
    {
     "name": "stdout",
     "output_type": "stream",
     "text": [
      "243                            World\n",
      "96             High-income countries\n",
      "12                              Asia\n",
      "70                            Europe\n",
      "235    Upper-middle-income countries\n",
      "71               European Union (27)\n",
      "161                    North America\n",
      "233                    United States\n",
      "44                             China\n",
      "128    Lower-middle-income countries\n",
      "207                    South America\n",
      "101                            India\n",
      "76                            France\n",
      "82                           Germany\n",
      "30                            Brazil\n",
      "Name: location, dtype: object\n",
      "243                            World\n",
      "96             High-income countries\n",
      "235    Upper-middle-income countries\n",
      "70                            Europe\n",
      "161                    North America\n",
      "12                              Asia\n",
      "207                    South America\n",
      "71               European Union (27)\n",
      "233                    United States\n",
      "128    Lower-middle-income countries\n",
      "30                            Brazil\n",
      "101                            India\n",
      "183                           Russia\n",
      "141                           Mexico\n",
      "1                             Africa\n",
      "Name: location, dtype: object\n"
     ]
    }
   ],
   "source": [
    "# Write your code to solve the question above in this cell then provide the answers below\n",
    "total_cases=data['total_cases'].sum()\n",
    "total_deaths=data['total_deaths'].sum()\n",
    "data['percent_cases'] =data['total_cases']/total_cases\n",
    "topcases=data.sort_values(by='percent_cases',ascending=False).head(15)\n",
    "data['percent_deaths'] = data['total_deaths']/total_deaths\n",
    "topdeaths=data.sort_values(by='percent_deaths',ascending=False).head(15)\n",
    "\n",
    "print(topcases['location'])\n",
    "print(topdeaths['location'])"
   ]
  },
  {
   "cell_type": "markdown",
   "metadata": {},
   "source": [
    "<font size=+3>&#9998;</font> the countries are listed above. however, some of them are continents and one of them is a total count for the world. so i suppose the answers are high income countries for both? if we are looking at a single country, then the US is the answer for both."
   ]
  },
  {
   "cell_type": "markdown",
   "metadata": {},
   "source": [
    "**&#9989; Use a bar plot to plot the percentage of cases and the percentage of deaths for the 5 countries that have the highest percentage of cases. (4 points)**"
   ]
  },
  {
   "cell_type": "code",
   "execution_count": 34,
   "metadata": {},
   "outputs": [
    {
     "data": {
      "image/png": "[encoded data removed]",
      "text/plain": [
       "<Figure size 640x480 with 1 Axes>"
      ]
     },
     "metadata": {},
     "output_type": "display_data"
    },
    {
     "data": {
      "image/png": "[encoded data removed]",
      "text/plain": [
       "<Figure size 640x480 with 1 Axes>"
      ]
     },
     "metadata": {},
     "output_type": "display_data"
    }
   ],
   "source": [
    "# Write your code to solve the question above in this cell\n",
    "import matplotlib.pyplot as plt\n",
    "top5cases=data.sort_values(by='percent_cases',ascending=False).head(5)\n",
    "top5deaths=data.sort_values(by='percent_deaths',ascending=False).head(5)\n",
    "plt.bar(top5cases['location'],top5cases['percent_cases'])\n",
    "plt.title('top 5 percent cases by country')\n",
    "plt.xlabel('country')\n",
    "plt.ylabel('percent cases')\n",
    "plt.xticks(rotation=45,ha='right')\n",
    "plt.tight_layout()\n",
    "plt.show()\n",
    "\n",
    "plt.bar(top5deaths['location'],top5deaths['percent_deaths'])\n",
    "plt.title('top 5 percent deaths by country')\n",
    "plt.xlabel('country')\n",
    "plt.ylabel('percent deaths')\n",
    "plt.xticks(rotation=45,ha='right')\n",
    "plt.tight_layout()\n",
    "plt.show()"
   ]
  },
  {
   "cell_type": "markdown",
   "metadata": {},
   "source": [
    "## &#128721; STOP \n",
    "Commit and push this part to github. Use a meaningful message for your commit **(2 points)**"
   ]
  },
  {
   "cell_type": "markdown",
   "metadata": {},
   "source": [
    "## Part 3: Finding and Using a Python Package from Github (11 points)"
   ]
  },
  {
   "cell_type": "markdown",
   "metadata": {},
   "source": [
    "In this part of the assignment you will need to go through a Github page with a new package.\n",
    "We will use a new Python package `pyjokes`. As you work on this part of the assignment, you should take advantage of the [pyjokes Github page](https://github.com/pyjokes/pyjokes) which contains some really useful information"
   ]
  },
  {
   "cell_type": "markdown",
   "metadata": {},
   "source": [
    "&#9989;**What command could you use to install `pyjokes` package? (2 points)**"
   ]
  },
  {
   "cell_type": "code",
   "execution_count": 12,
   "metadata": {},
   "outputs": [],
   "source": [
    "# Put the complete command here and show its output by running this cell\n"
   ]
  },
  {
   "cell_type": "markdown",
   "metadata": {},
   "source": [
    "&#9989; **Use pyjokes to output a joke in the cell below. (2 points)**"
   ]
  },
  {
   "cell_type": "code",
   "execution_count": 13,
   "metadata": {},
   "outputs": [],
   "source": [
    "# Put your code in this cell\n"
   ]
  },
  {
   "cell_type": "markdown",
   "metadata": {},
   "source": [
    "&#9989; **What are the names of the three different joke categories? (1 point)**"
   ]
  },
  {
   "cell_type": "markdown",
   "metadata": {},
   "source": [
    "<font size=+3>&#9998;</font> Do This - Erase the contents of this cell and replace it with your answer to the above question!  (double-click on this text to edit this cell, and hit shift+enter to save the text). Please use appropriate Markup formating to make your answer's easy to read."
   ]
  },
  {
   "cell_type": "markdown",
   "metadata": {},
   "source": [
    "&#9989; **Where are the jokes coming from? Find the file that has the joke data in english and add this file to your hw_1 folder. How did you accomplish this task? Please describe in detail what steps you took to find the file and add it to your hw_1 folder. (4 points)** "
   ]
  },
  {
   "cell_type": "markdown",
   "metadata": {},
   "source": [
    "<font size=+3>&#9998;</font> Do This - Erase the contents of this cell and replace it with your answer to the above question!  (double-click on this text to edit this cell, and hit shift+enter to save the text). Please use appropriate Markup formating to make your answer's easy to read."
   ]
  },
  {
   "cell_type": "markdown",
   "metadata": {},
   "source": [
    "## &#128721; STOP \n",
    "Commit and push this part to github. Use a meaningful message for your commit **(2 points)**"
   ]
  },
  {
   "cell_type": "markdown",
   "metadata": {
    "pycharm": {
     "name": "#%% md\n"
    }
   },
   "source": [
    "---------\n",
    "### Congratulations, you're done with your pre-class assignment!\n",
    "\n",
    "Now, you just need to submit this assignment by uploading it to the course <a href=\"https://d2l.msu.edu/\">Desire2Learn</a> web page for the appropriate pre-class submission folder (Don't forget to add your name in the first cell)."
   ]
  },
  {
   "cell_type": "markdown",
   "metadata": {
    "pycharm": {
     "name": "#%% md\n"
    }
   },
   "source": [
    "&#169; Copyright 2025,  Department of Computational Mathematics, Science and Engineering at Michigan State University"
   ]
  }
 ],
 "metadata": {
  "anaconda-cloud": {},
  "kernelspec": {
   "display_name": "Python [conda env:base] *",
   "language": "python",
   "name": "conda-base-py"
  },
  "language_info": {
   "codemirror_mode": {
    "name": "ipython",
    "version": 3
   },
   "file_extension": ".py",
   "mimetype": "text/x-python",
   "name": "python",
   "nbconvert_exporter": "python",
   "pygments_lexer": "ipython3",
   "version": "3.12.7"
  },
  "widgets": {
   "application/vnd.jupyter.widget-state+json": {
    "state": {},
    "version_major": 2,
    "version_minor": 0
   }
  }
 },
 "nbformat": 4,
 "nbformat_minor": 4
}
